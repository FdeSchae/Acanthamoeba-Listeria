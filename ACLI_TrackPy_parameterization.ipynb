{
 "cells": [
  {
   "cell_type": "markdown",
   "metadata": {},
   "source": [
    "<h2>TrackPy parameterization script</h2>\n",
    "\n",
    "This image-analysis script was used set determine the TrackPy parameters used in the chemotaxis assay and encounter rate enalayes. This script was developped within the framework of the following publication:\n",
    "\n",
    "<em>de Schaetzen & Fan et al. Random encounters and predator locomotion drive the predation of Listeria monocytogenes by Acanthamoeba castellanii.</em>"
   ]
  },
  {
   "cell_type": "markdown",
   "metadata": {},
   "source": [
    "<h4>Importing the required libraries and tools</h4>"
   ]
  },
  {
   "cell_type": "code",
   "execution_count": null,
   "metadata": {},
   "outputs": [],
   "source": [
    "from __future__ import division, unicode_literals, print_function  #for compatibility with Python 2 and 3\n",
    "import os\n",
    "import matplotlib.pyplot as plt\n",
    "from tifffile import imread\n",
    "from tifffile import imsave\n",
    "import pims\n",
    "import numpy as np\n",
    "import trackpy as tp\n",
    "import trackpy.predict"
   ]
  },
  {
   "cell_type": "markdown",
   "metadata": {},
   "source": [
    "<h3>TrackPy parameterization for CHEMOTAXIS ASSAY</h3>\n",
    "\n",
    "The script block described below are only meant to be used in the analyses of the chemotaxis assay experiments. \n",
    "For the encounter rate experiments, you can find the appropriate TrackPy parameterization analyses below."
   ]
  },
  {
   "cell_type": "markdown",
   "metadata": {},
   "source": [
    "<h4>Defining folder variables for accessing files</h4>\n",
    "\n",
    "The following folder structures should already have been created if you followed the steps in the ACLI_ChemotaxisAssay  which can be found on the following GitHub repository: https://github.com/Renderfarm/Acanthamoeba-Listeria.\n",
    "\n"
   ]
  },
  {
   "cell_type": "code",
   "execution_count": null,
   "metadata": {},
   "outputs": [],
   "source": [
    "def_path = r'F:\\Chemotaxis assay analysis\\PAS_Rep3_13012021'#Set the default folder, the folder mentioned here only serves as an example\n",
    "#the following definition allows for easy folder creation:\n",
    "def createFolder(directory):    \n",
    "    try:\n",
    "        if not os.path.exists(directory):\n",
    "            os.makedirs(directory)\n",
    "    except OSError:\n",
    "        print ('Error: Creating directory. ' +  directory)\n",
    "        \n",
    "## TIFFthres, in this folder the thresholded video files will be saved\n",
    "TIFFthres_path = def_path + \"\\TIFFthres\"\n",
    "createFolder(TIFFthres_path)"
   ]
  },
  {
   "cell_type": "markdown",
   "metadata": {},
   "source": [
    "<h4>The parameterization of the TrackPy plugin to localize particles/bacteria</h4>\n",
    "\n",
    "More information about the parameterization can be found on the GitHub repository of the TrackPy team: http://soft-matter.github.io/trackpy/v0.5.0/\n",
    "\n",
    "Once the parameters have been determined for one video of a given experiment, they can be kept constant for the other videos, assuming that no changes where made to the microscope (more specifically light intensity, magnification and exposure time) in between recordings!"
   ]
  },
  {
   "cell_type": "markdown",
   "metadata": {},
   "source": [
    "<h5>Parameterization on 1 frame</h5>"
   ]
  },
  {
   "cell_type": "code",
   "execution_count": null,
   "metadata": {},
   "outputs": [],
   "source": [
    "os.chdir(TIFFthres_path) # set the working directory to the TIFFthres folder\n",
    "fl_TIFF = os.listdir(TIFFthres_path)\n",
    "## Parameterisation of trackpy - the parameters below should be adjusted untill the best result has been achieved!\n",
    "Dia = 9 # diameter: approximate diameter (in pixels) of the particles to be located - this can be approximated in ImageJ\n",
    "MinMass = 0 # Minimum mass: the minimum integrated brightness/darkness (filter to remove spurious objects)\n",
    "Nsize = 1 # noise size: width of the gaussian blur filter to remove noise\n",
    "sep = 7 # minumum separation (in pixels) between two features\n",
    "framenr = 10 # the frame number on which the parameterization will take place (frame 1 has a value of 0)\n",
    "videonr = 3 # the video number on which the parameterization will take palce (video 1 (i.e. timepoint 1) has a value of 0)\n",
    "## particle localization for 1 frame with the tp.locate function\n",
    "frames = np.array(imread(fl_TIFF[videonr])) # import the video-file as a numpy array\n",
    "fe = tp.locate(frames[framenr], diameter = Dia, invert = True, noise_size = Nsize, minmass = MinMass, separation = sep) \n",
    "plt.figure(figsize = (5,5), dpi = 300)  # make an empty plot\n",
    "plt.scatter(fe['x'],fe['y'], s = 3, marker = 'o', edgecolors = 'r', facecolors = 'None', norm = True, linewidths = 0.5) # use the TrackPy scatter plot function\n",
    "plt.imshow(frames[framenr], cmap = 'Greys_r' , vmin = 0, vmax = 255) # plot the frame on wich particles were located as a background \n",
    "## plot a histogram of the mass of the detected particles.\n",
    "fig, ax = plt.subplots() # create and ampty plot\n",
    "ax.hist(fe['mass'], bins=50) # plot a histrogram with binwidth of 50\n",
    "ax.set(xlabel='mass', ylabel='count'); # set the axis labels\n",
    "#Check for subpixel accuracy - the distribution of the decimal part of the x and/or y positions should be (close to) evenly distributed for the best results\n",
    "tp.subpx_bias(fe) # a TrackPy function that makes a plot of the subpixel accuracy"
   ]
  },
  {
   "cell_type": "markdown",
   "metadata": {},
   "source": [
    "<h5>Parameterization on multiple/all frames</h5>"
   ]
  },
  {
   "cell_type": "code",
   "execution_count": null,
   "metadata": {},
   "outputs": [],
   "source": [
    "os.chdir(TIFFthres_path) # set the working directory to the TIFFthres folder\n",
    "fl_TIFF = os.listdir(TIFFthres_path)\n",
    "## parameters tp.locate() - change these untill optimized\n",
    "dia = 9 # diameter: approximate diameter of the particles to be located\n",
    "MinMass = 0 # Minimum mass: the minimum integrated brightness/darkness (filter to remove spurious objects)\n",
    "Nsize = 1 # noise size: width of the gaussian blur filter to remove noise\n",
    "Msize = 17 # maximum diameter size (in pixels) of the particles to be located\n",
    "Pmem = 15 # particle memory: the maximum number of frames during which a feature can vanish, then reppear nearby, and be considered the same particle.\n",
    "TrackTresh = 25 # minimum number of points frames for a trajectory to survive\n",
    "MaxT = 5 # maximum amount of pixels a bacteria can move in between two consecutive frames\n",
    "sep = 7 # minumum separation (in pixels) between two features\n",
    "videonr = 3 # the video number on which the parameterization will take palce (video 1 (i.e. timepoint 1) has a value of 0)\n",
    "## particle localization for all frames with the tp.batch function\n",
    "frames = np.array(imread(fl_TIFF[videonr])) # import the video-file as a numpy array\n",
    "fe = tp.batch(frames,  diameter = dia, invert = True, noise_size = Nsize, maxsize = Msize, minmass = MinMass, separation = sep);\n",
    "## link particles into trajectories with trackpy's predictive trajectory tracking\n",
    "pred = trackpy.predict.NearestVelocityPredict() # determine which predictive trajectory functionality to use\n",
    "t = pred.link_df(fe, search_range = MaxT, memory = Pmem) # use the predictive trajectory function of TrackPy\n",
    "tf = tp.filter_stubs(t, TrackTresh) # filter out trajectories that are smaller that that 25 frames in length\n",
    "## make a plot of the detected trajectories\n",
    "plt.figure(figsize = (5,5), dpi = 300)# create and ampty plot\n",
    "ax1 = plt.subplot(1,1,1) # add a new axis\n",
    "tp.plot_traj(tf, ax=ax1,colorby = 'particle') # use the trajecotry  plot function\n",
    "plt.imshow(frames[124], cmap = 'Greys_r' , vmin = 0, vmax = 255) # use one of the frames as a background image\n",
    "## plot a histogram of the mass of the detected particles.\n",
    "fig, ax = plt.subplots()# create and ampty plot\n",
    "ax.hist(fe['mass'], bins=50) # plot a histrogram of the particles masses with binwidth of 50\n",
    "ax.set(xlabel='mass', ylabel='count'); # set the axis labels\n",
    "## Check for subpixel accuracy - the distribution of the decimal part of the x and/or y positions should be (close to) evenly distributed for the best results\n",
    "tp.subpx_bias(f_b) # a TrackPy function that makes a plot of the subpixel accuracy"
   ]
  },
  {
   "cell_type": "markdown",
   "metadata": {},
   "source": [
    "<h3>TrackPy parameterization for ENCOUNTER RATE EXPERIMENTS</h3>\n",
    "\n",
    "The script block described below are only meant to be used in the analyses of the encounter rate experiments. \n",
    "For the chemotaxis assays, you can find the appropriate TrackPy parameterization analyses above."
   ]
  },
  {
   "cell_type": "markdown",
   "metadata": {},
   "source": [
    "<h4>Defining folder variables for accessing files</h4>\n",
    "\n",
    "The following folder structures should already have been created if you followed the steps in the ACLI_EncounterRate  which can be found on the following GitHub repository: https://github.com/Renderfarm/Acanthamoeba-Listeria."
   ]
  },
  {
   "cell_type": "code",
   "execution_count": null,
   "metadata": {},
   "outputs": [],
   "source": [
    "def_path = r'F:\\Encounter rate experiment analysis\\OD0.01_06082020\\AMOEBA'#Set the default folder, the folder mentioned here only serves as an example\n",
    "#the following definition allows for easy folder creation:\n",
    "def createFolder(directory):    \n",
    "    try:\n",
    "        if not os.path.exists(directory):\n",
    "            os.makedirs(directory)\n",
    "    except OSError:\n",
    "        print ('Error: Creating directory. ' +  directory)\n",
    "## TIFF, in this folder the converted video files will be saved (the conversion happens in ImageJ/Fiji)\n",
    "SCALE_path = def_path + \"\\SCALE\"\n",
    "createFolder(SCALE_path)\n",
    "## CANNY_AMOEBA: folder in which videofiles containing the amoeba masks will be saved\n",
    "CANNY_AMOEBA_path = def_path + \"\\CANNY_AMOEBA\"\n",
    "createFolder(CANNY_AMOEBA_path)"
   ]
  },
  {
   "cell_type": "markdown",
   "metadata": {},
   "source": [
    "<h4>The parameterization of the TrackPy plugin to localize particles/bacteria</h4>\n",
    "\n",
    "More information about the parameterization can be found on the GitHub repository of the TrackPy team: http://soft-matter.github.io/trackpy/v0.5.0/\n",
    "\n",
    "Once the parameters have been determined for one video of a given experiment, they can be kept constant for the other videos, assuming that no changes where made to the microscope (more specifically light intensity, magnification and exposure time) in between recordings!"
   ]
  },
  {
   "cell_type": "markdown",
   "metadata": {},
   "source": [
    "<h5>Parameterization on 1 frame</h5>"
   ]
  },
  {
   "cell_type": "code",
   "execution_count": null,
   "metadata": {},
   "outputs": [],
   "source": [
    "os.chdir(SCALE_path) # set the working directory to the TIFFthres folder\n",
    "fl_TIFF = os.listdir(SCALE_path)\n",
    "## Parameterisation of trackpy - the parameters below should be adjusted untill the best result has been achieved!\n",
    "Dia = 11 # diameter: approximate diameter (in pixels) of the particles to be located - this can be approximated in ImageJ\n",
    "MinMass = 600 # Minimum mass: the minimum integrated brightness/darkness (filter to remove spurious objects)\n",
    "MaxMass = 2000 # Msximum mass: the maximum integrated brightness/darkness (filter to remove objects that are to big to be a bacteria)\n",
    "Nsize = 1.5 # noise size: width of the gaussian blur filter to remove noise\n",
    "MaxDia = 21 # maximum diameter size (in pixels) of the particles to be located\n",
    "sep = 7 # minumum separation (in pixels) between two features\n",
    "framenr = 10 # the frame number on which the parameterization will take place (frame 1 has a value of 0)\n",
    "videonr = 3 # the video number on which the parameterization will take palce (video 1 (i.e. timepoint 1) has a value of 0)\n",
    "## particle localization for 1 frame with the tp.locate function\n",
    "frames = np.array(imread(fl_TIFF[videonr])) # import the video-file as a numpy array\n",
    "fe = tp.locate(frames[framenr], diameter = Dia, invert = True, noise_size = Nsize, minmass = MinMass, maxsize = MaxDia, separation = sep) \n",
    "fe.drop(fe[fe['mass'] >= MaxMass].index, inplace = True)\n",
    "os.chdir(CANNY_AMOEBA_path) # set the working directory to the AMOEBA folder\n",
    "filename_amoeba = fl_TIFF[videonr].replace('_scaled.tif', '_amoeba.tif') # create the corresponding AMOEBA mask filename\n",
    "frames_amoeba = np.array(imread(filename_amoeba)) # import the AMOEBA mask file as a numpy array\n",
    "frame_amoeba = frames_amoeba[framenr,::]\n",
    "frame_index = list(fe[[\"y\", \"x\"]].round().astype(int).itertuples(index=False, name=None)) # get list of coordinates of features within frame (rounded upwards and transformed to integer for use in numpy)\n",
    "frame_mask = np.array([frame_amoeba[b] for b in frame_index]) # creates an array with pixel values of either 0, i.e. outside, or 255 , i.e. within the amoeba area/mask\n",
    "fe['mask'] = frame_mask\n",
    "fe.drop(fe[fe['mask'] == 255].index, inplace = True) # drop rows with mask value 255 (within amoeba area), this will remove features that were detected within the amoeba area\n",
    "fe.drop(['mask'], axis = 1) # drop the mask collumn for future usage\n",
    "plt.figure(figsize = (5,5), dpi = 300)  # make an empty plot\n",
    "plt.scatter(fe['x'],fe['y'], s = 3, marker = 'o', edgecolors = 'r', facecolors = 'None', norm = True, linewidths = 0.5) # use the TrackPy scatter plot function\n",
    "plt.imshow(frames[framenr], cmap = 'Greys_r' , vmin = 0, vmax = 255) # plot the frame on wich particles were located as a background \n",
    "## plot a histogram of the mass of the detected particles.\n",
    "fig, ax = plt.subplots() # create and ampty plot\n",
    "ax.hist(fe['mass'], bins=50) # plot a histrogram with binwidth of 50\n",
    "ax.set(xlabel='mass', ylabel='count'); # set the axis labels\n",
    "#Check for subpixel accuracy - the distribution of the decimal part of the x and/or y positions should be (close to) evenly distributed for the best results\n",
    "tp.subpx_bias(fe) # a TrackPy function that makes a plot of the subpixel accuracy"
   ]
  },
  {
   "cell_type": "markdown",
   "metadata": {},
   "source": [
    "<h5>Parameterization on multiple/all frames</h5>"
   ]
  },
  {
   "cell_type": "code",
   "execution_count": null,
   "metadata": {},
   "outputs": [],
   "source": [
    "os.chdir(SCALE_path) # set the working directory to the TIFFthres folder\n",
    "fl_TIFF = os.listdir(SCALE_path)\n",
    "## Parameterisation of trackpy - the parameters below should be adjusted untill the best result has been achieved!\n",
    "Dia = 11 # diameter: approximate diameter (in pixels) of the particles to be located - this can be approximated in ImageJ\n",
    "MinMass = 600 # Minimum mass: the minimum integrated brightness/darkness (filter to remove spurious objects)\n",
    "MaxMass = 2000 # Msximum mass: the maximum integrated brightness/darkness (filter to remove objects that are to big to be a bacteria)\n",
    "Nsize = 1.5 # noise size: width of the gaussian blur filter to remove noise\n",
    "MaxDia = 21 # maximum diameter size (in pixels) of the particles to be located\n",
    "sep = 7 # minumum separation (in pixels) between two features\n",
    "videonr = 3 # the video number on which the parameterization will take palce (video 1 (i.e. timepoint 1) has a value of 0)\n",
    "## particle localization for 1 frame with the tp.locate function\n",
    "frames = np.array(imread(fl_TIFF[videonr])) # import the video-file as a numpy array\n",
    "fe = tp.batch(frames,  diameter = Dia, maxsize = MaxDia, invert = True, noise_size = Nsize, minmass = MinMass, separation = sep);\n",
    "fe.drop(fe[fe['mass'] >= MaxMass].index, inplace = True) # filter out particles which integrated Mass exceeds 2000\n",
    "mask = [] # create an empty list \n",
    "os.chdir(CANNY_AMOEBA_path) # set the working directory to the AMOEBA folder\n",
    "filename_amoeba = fl_TIFF[videonr].replace('_scaled.tif', '_amoeba.tif') # create the corresponding AMOEBA mask filename\n",
    "frames_amoeba = np.array(imread(filename_amoeba)) # import the AMOEBA mask file as a numpy array\n",
    "for fr in fe.frame.unique(): # for loop that cycles through each frame\n",
    "    frame_data = fe.loc[fe['frame'] == fr] # select feature data for given frame fr\n",
    "    frame_amoeba = frames_amoeba[fr,::] # select the corresponding AMOEBA mask frame fr\n",
    "    frame_index = list(frame_data[[\"y\", \"x\"]].round().astype(int).itertuples(index=False, name=None)) # get list of coordinates of features within frame (rounded upwards and transformed to integer for use in numpy)\n",
    "    frame_mask = np.array([frame_amoeba[b] for b in frame_index]) # creates an array with pixel values of either 0, i.e. outside, or 255 , i.e. within the amoeba area/mask\n",
    "    mask.extend(frame_mask) # collect all mask frames in one list\n",
    "mask = np.array(mask) # transform list to numpy array\n",
    "fe['mask'] = mask # add mask list as new column into feature dataset\n",
    "fe.drop(fe[fe['mask'] == 255].index, inplace = True) # drop rows with mask value 255 (within amoeba area), this will remove features that were detected within the amoeba area\n",
    "fe.drop(['mask'], axis = 1) # drop the mask collumn for future usage\n",
    "plt.figure(figsize = (5,5), dpi = 300)  # make an empty plot\n",
    "plt.scatter(fe['x'],fe['y'], s = 3, marker = 'o', edgecolors = 'r', facecolors = 'None', norm = True, linewidths = 0.5) # use the TrackPy scatter plot function\n",
    "plt.imshow(frames[framenr], cmap = 'Greys_r' , vmin = 0, vmax = 255) # plot the frame on wich particles were located as a background \n",
    "## plot a histogram of the mass of the detected particles.\n",
    "fig, ax = plt.subplots() # create and ampty plot\n",
    "ax.hist(fe['mass'], bins=50) # plot a histrogram with binwidth of 50\n",
    "ax.set(xlabel='mass', ylabel='count'); # set the axis labels\n",
    "#Check for subpixel accuracy - the distribution of the decimal part of the x and/or y positions should be (close to) evenly distributed for the best results\n",
    "tp.subpx_bias(fe) # a TrackPy function that makes a plot of the subpixel accuracy"
   ]
  }
 ],
 "metadata": {
  "kernelspec": {
   "display_name": "Python 3",
   "language": "python",
   "name": "python3"
  },
  "language_info": {
   "codemirror_mode": {
    "name": "ipython",
    "version": 3
   },
   "file_extension": ".py",
   "mimetype": "text/x-python",
   "name": "python",
   "nbconvert_exporter": "python",
   "pygments_lexer": "ipython3",
   "version": "3.7.8"
  }
 },
 "nbformat": 4,
 "nbformat_minor": 2
}
